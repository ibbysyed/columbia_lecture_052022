{
 "cells": [
  {
   "cell_type": "code",
   "execution_count": 1,
   "id": "53fdfabc",
   "metadata": {},
   "outputs": [],
   "source": [
    "#imports\n",
    "\n",
    "from fake_web_events.simulation import Simulation\n",
    "import os\n",
    "from sqlalchemy import create_engine\n",
    "from sqlalchemy import Table, Column, String, MetaData, TIMESTAMP, Integer, Float, Boolean\n",
    "import logging"
   ]
  },
  {
   "cell_type": "code",
   "execution_count": 2,
   "id": "b1e11e12",
   "metadata": {},
   "outputs": [],
   "source": [
    "#connect to your DB\n",
    "\n",
    "db_string = f\"postgresql://ibby@localhost:5431/events_data\"\n",
    "db = create_engine(db_string)"
   ]
  },
  {
   "cell_type": "code",
   "execution_count": 3,
   "id": "b659163b",
   "metadata": {},
   "outputs": [],
   "source": [
    "#figure out how to cast your events and create \"events\"\n",
    "\n",
    "logging.getLogger().setLevel(logging.INFO)\n",
    "\n",
    "meta = MetaData(db)\n",
    "atomic_events_table = Table('test_events',\n",
    "                            meta,\n",
    "                            Column('event_id', String),\n",
    "                            Column('event_timestamp', TIMESTAMP),\n",
    "                            Column('event_type', String),\n",
    "                            Column('page_url', String),\n",
    "                            Column('page_url_path', String),\n",
    "                            Column('referer_url', String),\n",
    "                            Column('referer_url_scheme', String),\n",
    "                            Column('referer_url_port', Integer),\n",
    "                            Column('referer_medium', String),\n",
    "                            Column('utm_medium', String),\n",
    "                            Column('utm_source', String),\n",
    "                            Column('utm_content', String),\n",
    "                            Column('utm_campaign', String),\n",
    "                            Column('click_id', String),\n",
    "                            Column('geo_latitude', Float),\n",
    "                            Column('geo_longitude', Float),\n",
    "                            Column('geo_country', String),\n",
    "                            Column('geo_timezone', String),\n",
    "                            Column('geo_region_name', String),\n",
    "                            Column('ip_address', String),\n",
    "                            Column('browser_name', String),\n",
    "                            Column('browser_user_agent', String),\n",
    "                            Column('browser_language', String),\n",
    "                            Column('os', String),\n",
    "                            Column('os_name', String),\n",
    "                            Column('os_timezone', String),\n",
    "                            Column('device_type', String),\n",
    "                            Column('device_is_mobile', Boolean),\n",
    "                            Column('user_custom_id', String),\n",
    "                            Column('user_domain_id', String),\n",
    "                            Column('page_definition', String),\n",
    "                            Column('user_genre', String),\n",
    "                            Column('seconds_buffered', Float), \n",
    "                            Column('minutes_watched', Float)\n",
    "                            )"
   ]
  },
  {
   "cell_type": "code",
   "execution_count": 4,
   "id": "b39434c7",
   "metadata": {},
   "outputs": [
    {
     "name": "stderr",
     "output_type": "stream",
     "text": [
      "INFO:root:Creating UserPool. This might take a while depending on your pool size.\n",
      "INFO:root:100 users created.\n",
      "INFO:root:200 users created.\n",
      "INFO:root:300 users created.\n",
      "INFO:root:400 users created.\n",
      "INFO:root:500 users created.\n",
      "INFO:root:600 users created.\n",
      "INFO:root:700 users created.\n",
      "INFO:root:800 users created.\n",
      "INFO:root:900 users created.\n",
      "INFO:root:1000 users created.\n"
     ]
    }
   ],
   "source": [
    "#run the simulation\n",
    "\n",
    "with db.connect() as conn:\n",
    "    atomic_events_table.create()\n",
    "\n",
    "    simulation = Simulation(user_pool_size=1000, sessions_per_day=1000000)\n",
    "    events = simulation.run(duration_seconds=60)\n",
    "\n",
    "    for event in events:\n",
    "        insert_statement = atomic_events_table.insert().values(**event)\n",
    "        conn.execute(insert_statement)"
   ]
  }
 ],
 "metadata": {
  "kernelspec": {
   "display_name": "Python 3 (ipykernel)",
   "language": "python",
   "name": "python3"
  },
  "language_info": {
   "codemirror_mode": {
    "name": "ipython",
    "version": 3
   },
   "file_extension": ".py",
   "mimetype": "text/x-python",
   "name": "python",
   "nbconvert_exporter": "python",
   "pygments_lexer": "ipython3",
   "version": "3.9.12"
  }
 },
 "nbformat": 4,
 "nbformat_minor": 5
}
